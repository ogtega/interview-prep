{
    "cells": [
        {
            "cell_type": "markdown",
            "metadata": {},
            "source": [
                "# Delete duplicate-value nodes from a sorted linked list\n",
                "\n",
                "## Problem\n",
                "\n",
                "You are given the pointer to the head node of a sorted linked list, where the data in the nodes is in ascending order. Delete nodes and return a sorted list with each distinct value in the original list. The given head pointer may be null indicating that the list is empty.\n",
                "\n",
                "### Example\n",
                "\n",
                "$head$ refers to the first node in the list\\\n",
                "$1 \\to 2 \\to 2 \\to 3 \\to 3 \\to 3 \\to 3 \\to NULL$\\\n",
                "Remove the repeated data values and return $head$ pointing to the revised list\n",
                "\n",
                "### Function Description\n",
                "\n",
                "Complete the removeDuplicates function in the editor below.\n",
                "\n",
                "removeDuplicates has the following parameter:\n",
                "\n",
                "- SinglyLinkedListNode pointer head: a reference to the head of the list\n",
                "### Returns\n",
                "\n",
                "- SinglyLinkedListNode pointer: a reference to the head of the revised list\n",
                "\n",
                "### Input Format\n",
                "\n",
                "The first line contains an integer $t$, the number of test cases.\n",
                "\n",
                "The format for each test case is as follows:\n",
                "\n",
                "The first line contains an integer $n$, the number of elements in the linked list.\n",
                "\n",
                "Each of the next $n$ lines contains an integer, the $data$ value for each of the elements of the linked list.\n",
                "\n",
                "### Constraints\n",
                "\n",
                "- The number of nodes in the list is in the range $[0, 300]$.\n",
                "- $100 \\leq Node.val \\leq 100$\n",
                "- The list is guaranteed to be sorted in ascending order."
            ]
        },
        {
            "cell_type": "code",
            "execution_count": null,
            "metadata": {
                "collapsed": true,
                "deletable": false,
                "editable": false,
                "jupyter": {
                    "outputs_hidden": true
                },
                "source_hidden": true,
                "tags": []
            },
            "outputs": [],
            "source": [
                "#!/bin/python3\n",
                "from typing import Optional\n",
                "\n",
                "\n",
                "class SinglyLinkedListNode:\n",
                "    def __init__(self, node_data: int):\n",
                "        self.data: int = node_data\n",
                "        self.next: Optional[SinglyLinkedListNode] = None\n",
                "\n",
                "\n",
                "class SinglyLinkedList:\n",
                "    def __init__(self):\n",
                "        self.head: Optional[SinglyLinkedListNode] = None\n",
                "        self.tail: Optional[SinglyLinkedListNode] = None\n",
                "\n",
                "    def insert_node(self, node_data: int):\n",
                "        node = SinglyLinkedListNode(node_data)\n",
                "\n",
                "        if not self.head or not self.tail:\n",
                "            self.head = node\n",
                "        else:\n",
                "            self.tail.next = node\n",
                "\n",
                "        self.tail = node"
            ]
        },
        {
            "cell_type": "markdown",
            "metadata": {},
            "source": [
                "## Solution"
            ]
        },
        {
            "cell_type": "code",
            "execution_count": null,
            "metadata": {},
            "outputs": [],
            "source": [
                "def removeDuplicates(llist: Optional[SinglyLinkedListNode]):\n",
                "    head = llist\n",
                "    prev: Optional[SinglyLinkedListNode] = None\n",
                "\n",
                "    while head:\n",
                "        if prev and prev.data == head.data:\n",
                "            prev.next = head.next\n",
                "        else:\n",
                "            prev = head\n",
                "        \n",
                "        head = head.next\n",
                "        \n",
                "    return llist\n"
            ]
        },
        {
            "cell_type": "code",
            "execution_count": null,
            "metadata": {},
            "outputs": [],
            "source": [
                "import sys\n",
                "from typing import TextIO\n",
                "\n",
                "\"\"\"\n",
                "Definition for singly-linked list node.\n",
                "class SinglyLinkedListNode:\n",
                "    def __init__(self, node_data: int):\n",
                "        self.data: int = node_data\n",
                "        self.next: Optional[SinglyLinkedListNode] = None\n",
                "\"\"\"\n",
                "\n",
                "def print_singly_linked_list(\n",
                "    node: Optional[SinglyLinkedListNode], sep: str, fptr: TextIO\n",
                "):\n",
                "    while node:\n",
                "        fptr.write(str(node.data))\n",
                "        node = node.next\n",
                "\n",
                "        if node:\n",
                "            fptr.write(sep)\n",
                "\n",
                "\n",
                "if __name__ == \"__main__\":\n",
                "    fptr = sys.stdout\n",
                "\n",
                "    while s := input():\n",
                "        llist = SinglyLinkedList()\n",
                "        items = list(map(lambda i: int(i), s.strip(\"[]\").split(\",\")))\n",
                "\n",
                "        for item in items:\n",
                "            llist.insert_node(item)\n",
                "\n",
                "        print_singly_linked_list(removeDuplicates(llist.head), \" \", fptr)\n",
                "        fptr.write(\"\\n\")"
            ]
        }
    ],
    "metadata": {
        "kernelspec": {
            "display_name": "Python 3.10.6 ('.venv': venv)",
            "language": "python",
            "name": "python3"
        },
        "language_info": {
            "codemirror_mode": {
                "name": "ipython",
                "version": 3
            },
            "file_extension": ".py",
            "mimetype": "text/x-python",
            "name": "python",
            "nbconvert_exporter": "python",
            "pygments_lexer": "ipython3",
            "version": "3.10.6"
        },
        "orig_nbformat": 4,
        "vscode": {
            "interpreter": {
                "hash": "a658b2b82cc93b7da35d18af92ca2cbc00d65348a143382d1d396c1308282018"
            }
        }
    },
    "nbformat": 4,
    "nbformat_minor": 2
}
