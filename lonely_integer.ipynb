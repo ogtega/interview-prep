{
 "cells": [
  {
   "cell_type": "markdown",
   "metadata": {},
   "source": [
    "# Lonely Integer\n",
    "\n",
    "## Problem\n",
    "\n",
    "Given an array of integers, where all elements but one occur twice, find the unique element.\n",
    "\n",
    "### Example\n",
    "\n",
    "```python\n",
    "arr = [1,2,3,4,3,2,1]\n",
    "```\n",
    "\n",
    "The unique element is 4.\n",
    "\n",
    "### Function Description\n",
    "\n",
    "Complete the lonelyinteger function in the editor below.\n",
    "\n",
    "lonelyinteger has the following parameter(s):\n",
    "\n",
    "- int arr[n]: an array of integers\n",
    "\n",
    "### Returns\n",
    "\n",
    "- int: the element that occurs only once\n",
    "\n",
    "### Input Format\n",
    "\n",
    "The first line contains a single integer, `n`, the number of integers in the array.\n",
    "The second line contains `n` space-separated integers that describe the values in `arr`.\n",
    "\n",
    "### Constraints\n",
    "\n",
    "- $1\\leq100$\n",
    "- It is guaranteed that `n` is an odd number and that there is one unique element.\n",
    "- $0\\leq{arr[i]}\\leq100$, where $0\\leq{i}\\lt{n}$"
   ]
  },
  {
   "cell_type": "markdown",
   "metadata": {},
   "source": [
    "## Solution\n",
    "\n",
    "First initialize a `set[int]` that will help us determine whether there is or isn't an existing occurance of a number in our input `arr`.\n",
    "\n",
    "> N.B.\n",
    ">\n",
    "> Set insertion, lookup and deletion is $O(1)$\n",
    "\n",
    "While iterating through the input array, we insert int `n` into set `s` when `n` is not a member of `s`.\n",
    "\n",
    "Inversely, when `n` is a member of `s`, we remove `n` from `s`.\n",
    "\n",
    "Since we can expect to see at most $2$ occurances of any integer, by removing integers that are already a member of `s` we will be left with any integer that doesn't have a second occurance."
   ]
  },
  {
   "cell_type": "code",
   "execution_count": null,
   "metadata": {},
   "outputs": [],
   "source": [
    "def lonelyinteger(arr: list[int]) -> int:\n",
    "    s: set[int] = set()\n",
    "    for n in arr:\n",
    "        if n not in s:\n",
    "            s.add(n)\n",
    "        else:\n",
    "            s.remove(n)\n",
    "\n",
    "    return next(iter(s))"
   ]
  },
  {
   "cell_type": "code",
   "execution_count": null,
   "metadata": {},
   "outputs": [],
   "source": [
    "import sys\n",
    "from typing import TextIO\n",
    "\n",
    "if __name__ == \"__main__\":\n",
    "    fptr = sys.stdout\n",
    "\n",
    "    while s := input():\n",
    "        arr: list[int] = list(map(lambda i: int(i), s.strip(\"[]\").split(\",\")))\n",
    "        result: int = lonelyinteger(arr)\n",
    "        fptr.write(str(result) + '\\n')\n",
    "    fptr.close()"
   ]
  }
 ],
 "metadata": {
  "kernelspec": {
   "display_name": "Python 3.10.6 ('.venv': venv)",
   "language": "python",
   "name": "python3"
  },
  "language_info": {
   "codemirror_mode": {
    "name": "ipython",
    "version": 3
   },
   "file_extension": ".py",
   "mimetype": "text/x-python",
   "name": "python",
   "nbconvert_exporter": "python",
   "pygments_lexer": "ipython3",
   "version": "3.10.6"
  },
  "orig_nbformat": 4,
  "vscode": {
   "interpreter": {
    "hash": "a658b2b82cc93b7da35d18af92ca2cbc00d65348a143382d1d396c1308282018"
   }
  }
 },
 "nbformat": 4,
 "nbformat_minor": 2
}
